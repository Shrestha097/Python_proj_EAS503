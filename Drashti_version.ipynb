{
 "cells": [
  {
   "cell_type": "code",
   "execution_count": 1,
   "id": "5e919def",
   "metadata": {},
   "outputs": [],
   "source": [
    "import warnings\n",
    "warnings.filterwarnings('ignore')\n",
    "import numpy as np\n",
    "import pandas as pd\n",
    "import sqlite3\n",
    "from sqlite3 import Error\n",
    "import csv\n",
    "import matplotlib.pyplot as plt\n",
    "import seaborn as sns\n",
    "\n",
    "import os\n",
    "import sklearn\n",
    "from sklearn.model_selection import train_test_split\n",
    "from sklearn.preprocessing import MinMaxScaler\n",
    "from sklearn.linear_model import LinearRegression\n",
    "from sklearn.feature_selection import RFE\n",
    "from sklearn.metrics import r2_score\n",
    "\n",
    "import statsmodels.api as sm\n",
    "from statsmodels.stats.outliers_influence import variance_inflation_factor"
   ]
  },
  {
   "cell_type": "code",
   "execution_count": 2,
   "id": "7c303b10",
   "metadata": {},
   "outputs": [],
   "source": [
    "def create_connection(db_file, delete_db=False):\n",
    "    import os\n",
    "    if delete_db and os.path.exists(db_file):\n",
    "        os.remove(db_file)\n",
    "\n",
    "    conn = None\n",
    "    try:\n",
    "        conn = sqlite3.connect(db_file)\n",
    "        conn.execute(\"PRAGMA foreign_keys = 1\")\n",
    "    except Error as e:\n",
    "        print(e)\n",
    "\n",
    "    return conn\n",
    "\n",
    "\n",
    "def create_table(conn, create_table_sql, drop_table_name=None):\n",
    "    \n",
    "    if drop_table_name: # You can optionally pass drop_table_name to drop the table. \n",
    "        try:\n",
    "            c = conn.cursor()\n",
    "            c.execute(\"\"\"DROP TABLE IF EXISTS %s\"\"\" % (drop_table_name))\n",
    "        except Error as e:\n",
    "            print(e)\n",
    "    \n",
    "    try:\n",
    "        c = conn.cursor()\n",
    "        c.execute(create_table_sql)\n",
    "    except Error as e:\n",
    "        print(e)\n",
    "        \n",
    "def execute_sql_statement(sql_statement, conn):\n",
    "    cur = conn.cursor()\n",
    "    cur.execute(sql_statement)\n",
    "\n",
    "    rows = cur.fetchall()\n",
    "\n",
    "    return rows\n"
   ]
  },
  {
   "cell_type": "code",
   "execution_count": 3,
   "id": "c00a2880",
   "metadata": {},
   "outputs": [],
   "source": [
    "filename = \"fake_job_postings.csv\""
   ]
  },
  {
   "cell_type": "code",
   "execution_count": 4,
   "id": "415993d6",
   "metadata": {
    "scrolled": true
   },
   "outputs": [],
   "source": [
    "with open(filename, encoding=\"utf-8\") as file:\n",
    "    raw_data = list(csv.reader(file, delimiter=\",\"))\n",
    "raw_data = raw_data[1:]\n",
    "raw_data1 = [tuple(i) for i in raw_data]\n",
    "# print(raw_data1)"
   ]
  },
  {
   "cell_type": "code",
   "execution_count": null,
   "id": "f2fa3bca",
   "metadata": {},
   "outputs": [],
   "source": []
  },
  {
   "cell_type": "code",
   "execution_count": 5,
   "id": "6c5cfbc3",
   "metadata": {},
   "outputs": [],
   "source": [
    "# raw_data = []\n",
    "# with open(filename) as file:\n",
    "#     for line in file:\n",
    "#         if not line.strip():\n",
    "#             continue\n",
    "#         raw_data.append(line.strip())\n",
    "\n",
    "# lst = [i.split(',') for i in raw_data]\n",
    "# lst = lst[1:]\n",
    "# lst1 = [tuple(i) for i in lst]"
   ]
  },
  {
   "cell_type": "code",
   "execution_count": 6,
   "id": "bc9b764d",
   "metadata": {},
   "outputs": [
    {
     "ename": "NameError",
     "evalue": "name 'conn' is not defined",
     "output_type": "error",
     "traceback": [
      "\u001b[1;31m---------------------------------------------------------------------------\u001b[0m",
      "\u001b[1;31mNameError\u001b[0m                                 Traceback (most recent call last)",
      "\u001b[1;32mC:\\Users\\DRASHT~1\\AppData\\Local\\Temp/ipykernel_24384/3886047035.py\u001b[0m in \u001b[0;36m<module>\u001b[1;34m\u001b[0m\n\u001b[1;32m----> 1\u001b[1;33m \u001b[0mconn\u001b[0m\u001b[1;33m.\u001b[0m\u001b[0mclose\u001b[0m\u001b[1;33m(\u001b[0m\u001b[1;33m)\u001b[0m\u001b[1;33m\u001b[0m\u001b[1;33m\u001b[0m\u001b[0m\n\u001b[0m",
      "\u001b[1;31mNameError\u001b[0m: name 'conn' is not defined"
     ]
    }
   ],
   "source": [
    "conn.close()"
   ]
  },
  {
   "cell_type": "code",
   "execution_count": null,
   "id": "599522d3",
   "metadata": {},
   "outputs": [],
   "source": []
  },
  {
   "cell_type": "code",
   "execution_count": null,
   "id": "a8f92c1a",
   "metadata": {},
   "outputs": [],
   "source": [
    "db_file = 'raw_data.db'\n",
    "import os\n",
    "if os.path.exists(db_file):\n",
    "    os.remove(db_file)\n",
    "conn = create_connection(db_file)\n",
    "\n",
    "create_table_sql1 = \"\"\"\n",
    "    CREATE TABLE IF NOT EXISTS [raw_data] (\n",
    "        [job_id] integer not null primary key,\n",
    "        [title] text,\n",
    "        [location] text,\n",
    "        [department] text,\n",
    "        [salary_range] text,\n",
    "        [company_profile] text,\n",
    "        [description] text,\n",
    "        [requirements] text,\n",
    "        [benefits] text,\n",
    "        [telecommuting] integer,\n",
    "        [has_company_logo] integer,\n",
    "        [has_questions] integer,\n",
    "        [employment_type] text,\n",
    "        [required_experience] text,\n",
    "        [required_education] text,\n",
    "        [industry] text,\n",
    "        [function] text,\n",
    "        [fraudulent] integer\n",
    "    );\n",
    "    \"\"\"\n",
    "\n",
    "def insert_raw_data(conn, values):\n",
    "    sql = ''' INSERT INTO raw_data(job_id,title,location,\n",
    "                department,salary_range,company_profile,description,\n",
    "                requirements,benefits,telecommuting,has_company_logo,\n",
    "                has_questions,employment_type,required_experience,\n",
    "                required_education,industry,function,fraudulent) \n",
    "                VALUES(?,?,?,?,?,?,?,?,?,?,?,?,?,?,?,?,?,?) '''\n",
    "    cur = conn.cursor()\n",
    "    cur.execute(sql, values)\n",
    "    return cur.lastrowid\n",
    "\n",
    "with conn:\n",
    "        create_table(conn, create_table_sql1)\n",
    "        for values in raw_data1:\n",
    "            insert_raw_data(conn,values)"
   ]
  },
  {
   "cell_type": "code",
   "execution_count": null,
   "id": "3203bc0c",
   "metadata": {},
   "outputs": [],
   "source": []
  },
  {
   "cell_type": "code",
   "execution_count": null,
   "id": "d3873303",
   "metadata": {},
   "outputs": [],
   "source": [
    "db_file_norm = 'normalized_data1.db'\n",
    "\n",
    "conn1 = create_connection(db_file_norm)"
   ]
  },
  {
   "cell_type": "code",
   "execution_count": null,
   "id": "b1458bbc",
   "metadata": {},
   "outputs": [],
   "source": [
    "with conn:\n",
    "    sql_statement = 'SELECT distinct company_profile from raw_data'\n",
    "    value_profile = execute_sql_statement(sql_statement, conn)\n",
    "\n",
    "create_table_sql2 = \"\"\"\n",
    "    CREATE TABLE IF NOT EXISTS [company] (\n",
    "        [companyID] integer not null primary key,\n",
    "        [company_profile] text\n",
    "    );\n",
    "    \"\"\"\n",
    "\n",
    "def insert_profile(conn, values):\n",
    "    sql = ''' INSERT INTO company(company_profile) \n",
    "                VALUES(?) '''\n",
    "    cur = conn.cursor()\n",
    "    cur.execute(sql, values)\n",
    "    return cur.lastrowid\n",
    "\n",
    "   \n",
    "\n",
    "with conn1:\n",
    "    create_table(conn1, create_table_sql2)\n",
    "    for values in value_profile:\n",
    "        insert_profile(conn1,values)"
   ]
  },
  {
   "cell_type": "code",
   "execution_count": null,
   "id": "d9714dff",
   "metadata": {},
   "outputs": [],
   "source": [
    "sql_statement = 'SELECT distinct company_profile, has_company_logo,count(job_id) from raw_data group by company_profile,has_company_logo order by company_profile'\n",
    "df = pd.read_sql_query(sql_statement, conn)\n",
    "display(df)"
   ]
  },
  {
   "cell_type": "code",
   "execution_count": null,
   "id": "064f2139",
   "metadata": {},
   "outputs": [],
   "source": [
    "l1 = df.iloc[2:,0].values\n",
    "l1.shape"
   ]
  },
  {
   "cell_type": "code",
   "execution_count": null,
   "id": "d6ceed0a",
   "metadata": {},
   "outputs": [],
   "source": [
    "np.unique(l1).shape"
   ]
  },
  {
   "cell_type": "code",
   "execution_count": null,
   "id": "25d2cd67",
   "metadata": {},
   "outputs": [],
   "source": [
    "sql_statement = 'SELECT distinct department, count(job_id) from raw_data group by department'\n",
    "df = pd.read_sql_query(sql_statement, conn)\n",
    "df.head(50)"
   ]
  },
  {
   "cell_type": "markdown",
   "id": "4d83efb7",
   "metadata": {},
   "source": [
    "- title - title\n",
    "- department - distinct department\n",
    "- salary - id, distinct salary(min max)\n",
    "- description - description\n",
    "- requirements - id, req\n",
    "- benefits - id,benefits\n",
    "- telecommuting\n",
    "- has_company_logo\n",
    "- has_questions\n",
    "- employment_type - \n",
    "- required_experience\n",
    "- required_education\n",
    "- industry\n",
    "- function\n",
    "- fraudulent\n",
    "- job_title_loc: job_id, title, locid, titleid, salaryid\n",
    "- company table: companyid, company_profile, has_company_logo\n",
    "- location table: locid,location - seggregated\n",
    "- jobid - companyid,  ###company_profile\n",
    "- \n",
    "- posting: jobid, description, requirement, benefits, telecommuting, has_questions,employment_type,required_experience,required_education,industry,function\n",
    "- "
   ]
  },
  {
   "cell_type": "code",
   "execution_count": null,
   "id": "c239548a",
   "metadata": {},
   "outputs": [],
   "source": [
    "with conn:\n",
    "    sql_statement = 'SELECT distinct title from raw_data'\n",
    "    value_profile = execute_sql_statement(sql_statement, conn)\n",
    "\n",
    "create_table_sql2 = \"\"\"\n",
    "    CREATE TABLE IF NOT EXISTS [title] (\n",
    "        [title] text not null primary key\n",
    "    );\n",
    "    \"\"\"\n",
    "\n",
    "def insert_profile(conn, values):\n",
    "    sql = ''' INSERT INTO company(company_profile) \n",
    "                VALUES(?) '''\n",
    "    cur = conn.cursor()\n",
    "    cur.execute(sql, values)\n",
    "    return cur.lastrowid\n",
    "\n",
    "   \n",
    "\n",
    "with conn1:\n",
    "    create_table(conn1, create_table_sql2)\n",
    "    for values in value_profile:\n",
    "        insert_profile(conn1,values)"
   ]
  },
  {
   "cell_type": "code",
   "execution_count": null,
   "id": "a538f4da",
   "metadata": {},
   "outputs": [],
   "source": []
  },
  {
   "cell_type": "code",
   "execution_count": null,
   "id": "937c2291",
   "metadata": {},
   "outputs": [],
   "source": []
  },
  {
   "cell_type": "code",
   "execution_count": null,
   "id": "0cf0d617",
   "metadata": {},
   "outputs": [],
   "source": []
  },
  {
   "cell_type": "code",
   "execution_count": null,
   "id": "12216834",
   "metadata": {},
   "outputs": [],
   "source": []
  },
  {
   "cell_type": "markdown",
   "id": "be8336cf",
   "metadata": {},
   "source": [
    "------ D&S"
   ]
  },
  {
   "cell_type": "code",
   "execution_count": null,
   "id": "0ff11294",
   "metadata": {},
   "outputs": [],
   "source": [
    "with conn:\n",
    "    sql_statement = 'SELECT distinct telecommuting from raw_data'\n",
    "    value_telecommuting = execute_sql_statement(sql_statement, conn)\n",
    "#     insert_tuple = []\n",
    "#     for row in value_telecommuting:\n",
    "#         if row[0] == 1:\n",
    "#             insert_tuple.append((True,))\n",
    "#         else :\n",
    "#             insert_tuple.append((False,)) \n",
    "    \n",
    "    \n",
    "create_table_sql2 = \"\"\"\n",
    "    CREATE TABLE IF NOT EXISTS [Telecommuting] (\n",
    "        [telecommutingId] integer not null primary key,\n",
    "        [isTelecommuting] boolean\n",
    "    );\n",
    "    \"\"\"\n",
    "\n",
    "def insert_telecommuting(conn, values):\n",
    "    sql = ''' INSERT INTO Telecommuting(isTelecommuting) \n",
    "                VALUES(?) '''\n",
    "    cur = conn.cursor()\n",
    "    cur.executemany(sql, values)\n",
    "    return cur.lastrowid\n",
    "\n",
    "   \n",
    "\n",
    "with conn1:\n",
    "    create_table(conn1, create_table_sql2,'Telecommuting')\n",
    "    insert_telecommuting(conn1,value_telecommuting)\n",
    "#     sql_statement = 'SELECT * from Telecommuting'\n",
    "#     telecommuting = execute_sql_statement(sql_statement, conn1)"
   ]
  },
  {
   "cell_type": "code",
   "execution_count": null,
   "id": "82b88ce8",
   "metadata": {},
   "outputs": [],
   "source": [
    "insert_tuple"
   ]
  },
  {
   "cell_type": "code",
   "execution_count": null,
   "id": "3f118ebc",
   "metadata": {},
   "outputs": [],
   "source": [
    "value_telecommuting"
   ]
  },
  {
   "cell_type": "code",
   "execution_count": null,
   "id": "e8edf789",
   "metadata": {},
   "outputs": [],
   "source": [
    "telecommuting"
   ]
  },
  {
   "cell_type": "code",
   "execution_count": null,
   "id": "11b21ea1",
   "metadata": {},
   "outputs": [],
   "source": [
    "with conn:\n",
    "    sql_statement = 'SELECT distinct has_company_logo from raw_data'\n",
    "    value_companylogo = execute_sql_statement(sql_statement, conn)\n",
    "#     insert_tuple = []\n",
    "#     for row in value_telecommuting:\n",
    "#         if row[0] == 1:\n",
    "#             insert_tuple.append((True,))\n",
    "#         else :\n",
    "#             insert_tuple.append((False,)) \n",
    "    \n",
    "    \n",
    "create_table_sql2 = \"\"\"\n",
    "    CREATE TABLE IF NOT EXISTS [Companylogo] (\n",
    "        [LogoId] integer not null primary key,\n",
    "        [HasLogo] boolean\n",
    "    );\n",
    "    \"\"\"\n",
    "\n",
    "def insert_companylogo(conn, values):\n",
    "    sql = ''' INSERT INTO Companylogo(HasLogo) \n",
    "                VALUES(?) '''\n",
    "    cur = conn.cursor()\n",
    "    cur.executemany(sql, values)\n",
    "    return cur.lastrowid\n",
    "\n",
    "   \n",
    "\n",
    "with conn1:\n",
    "    create_table(conn1, create_table_sql2,'Companylogo')\n",
    "    insert_companylogo(conn1,value_companylogo)\n",
    "#     sql_statement = 'SELECT * from Companylogo'\n",
    "#     logo = execute_sql_statement(sql_statement, conn1)"
   ]
  },
  {
   "cell_type": "code",
   "execution_count": null,
   "id": "0298d4ed",
   "metadata": {},
   "outputs": [],
   "source": [
    "logo"
   ]
  },
  {
   "cell_type": "code",
   "execution_count": null,
   "id": "fadeb290",
   "metadata": {},
   "outputs": [],
   "source": [
    "with conn:\n",
    "    sql_statement = 'SELECT distinct has_questions from raw_data'\n",
    "    value_questions = execute_sql_statement(sql_statement, conn)\n",
    "#     insert_tuple = []\n",
    "#     for row in value_telecommuting:\n",
    "#         if row[0] == 1:\n",
    "#             insert_tuple.append((True,))\n",
    "#         else :\n",
    "#             insert_tuple.append((False,)) \n",
    "    \n",
    "    \n",
    "create_table_sql2 = \"\"\"\n",
    "    CREATE TABLE IF NOT EXISTS [HasQuestions] (\n",
    "        [QuestionId] integer not null primary key,\n",
    "        [HasQuestion] boolean\n",
    "    );\n",
    "    \"\"\"\n",
    "\n",
    "def insert_questions(conn, values):\n",
    "    sql = ''' INSERT INTO HasQuestions(HasQuestion) \n",
    "                VALUES(?) '''\n",
    "    cur = conn.cursor()\n",
    "    cur.executemany(sql, values)\n",
    "    return cur.lastrowid\n",
    "\n",
    "   \n",
    "\n",
    "with conn1:\n",
    "    create_table(conn1, create_table_sql2,'HasQuestions')\n",
    "    insert_questions(conn1,value_questions)\n",
    "#     sql_statement = 'SELECT * from HasQuestions'\n",
    "#     question = execute_sql_statement(sql_statement, conn1)"
   ]
  },
  {
   "cell_type": "code",
   "execution_count": null,
   "id": "89293d46",
   "metadata": {},
   "outputs": [],
   "source": [
    "question"
   ]
  },
  {
   "cell_type": "code",
   "execution_count": null,
   "id": "aa913086",
   "metadata": {},
   "outputs": [],
   "source": [
    "with conn:\n",
    "    sql_statement = 'SELECT distinct employment_type from raw_data'\n",
    "    value_employment_type = execute_sql_statement(sql_statement, conn)\n",
    "\n",
    "create_table_sql2 = \"\"\"\n",
    "    CREATE TABLE IF NOT EXISTS [EmploymentTypes] (\n",
    "        [EmploymentTypeId] integer not null primary key,\n",
    "        [EmploymentType] Text\n",
    "    );\n",
    "    \"\"\"\n",
    "\n",
    "def insert_eType(conn, values):\n",
    "    sql = ''' INSERT INTO EmploymentTypes(EmploymentType) \n",
    "                VALUES(?) '''\n",
    "    cur = conn.cursor()\n",
    "    cur.executemany(sql, values)\n",
    "    return cur.lastrowid\n",
    "\n",
    "   \n",
    "\n",
    "with conn1:\n",
    "    create_table(conn1, create_table_sql2,'EmploymentTypes')\n",
    "    insert_eType(conn1,value_employment_type)\n",
    "#     sql_statement = 'SELECT * from EmploymentTypes'\n",
    "#     employment_type = execute_sql_statement(sql_statement, conn1)"
   ]
  },
  {
   "cell_type": "code",
   "execution_count": null,
   "id": "9b98bf37",
   "metadata": {},
   "outputs": [],
   "source": [
    "value_employment_type"
   ]
  },
  {
   "cell_type": "code",
   "execution_count": null,
   "id": "78b33288",
   "metadata": {},
   "outputs": [],
   "source": [
    "# df = pd.read_csv(\"fake_job_postings.csv\")"
   ]
  },
  {
   "cell_type": "code",
   "execution_count": null,
   "id": "4fe62d9d",
   "metadata": {},
   "outputs": [],
   "source": [
    "# df.head()"
   ]
  },
  {
   "cell_type": "code",
   "execution_count": null,
   "id": "53d07091",
   "metadata": {},
   "outputs": [],
   "source": [
    "# df.shape"
   ]
  },
  {
   "cell_type": "code",
   "execution_count": null,
   "id": "d2f0baa3",
   "metadata": {},
   "outputs": [],
   "source": [
    "employment_type"
   ]
  },
  {
   "cell_type": "code",
   "execution_count": null,
   "id": "dfe214ef",
   "metadata": {},
   "outputs": [],
   "source": [
    "with conn:\n",
    "    sql_statement = 'SELECT distinct required_experience from raw_data'\n",
    "    value_required_experience = execute_sql_statement(sql_statement, conn)\n",
    "\n",
    "    \n",
    "create_table_sql2 = \"\"\"\n",
    "    CREATE TABLE IF NOT EXISTS [RequiredExperiences] (\n",
    "        [RequiredExperienceId] integer not null primary key,\n",
    "        [RequiredExperience] Text\n",
    "    );\n",
    "    \"\"\"\n",
    "\n",
    "def insert_req_experience(conn, values):\n",
    "    sql = ''' INSERT INTO RequiredExperiences(RequiredExperience) \n",
    "                VALUES(?) '''\n",
    "    cur = conn.cursor()\n",
    "    cur.executemany(sql, values)\n",
    "    return cur.lastrowid\n",
    "\n",
    "   \n",
    "\n",
    "with conn1:\n",
    "    create_table(conn1, create_table_sql2,'RequiredExperience')\n",
    "    insert_req_experience(conn1,value_required_experience)\n",
    "#     sql_statement = 'SELECT * from RequiredExperiences'\n",
    "#     experience_type = execute_sql_statement(sql_statement, conn1)"
   ]
  },
  {
   "cell_type": "code",
   "execution_count": null,
   "id": "6a6229dd",
   "metadata": {},
   "outputs": [],
   "source": [
    "experience_type"
   ]
  },
  {
   "cell_type": "code",
   "execution_count": null,
   "id": "c5019d00",
   "metadata": {},
   "outputs": [],
   "source": [
    "with conn:\n",
    "    sql_statement = 'SELECT distinct required_education from raw_data'\n",
    "    value_required_education = execute_sql_statement(sql_statement, conn) \n",
    "    \n",
    "create_table_sql2 = \"\"\"\n",
    "    CREATE TABLE IF NOT EXISTS [RequiredEducation] (\n",
    "        [RequiredEducationId] integer not null primary key,\n",
    "        [Education] Text\n",
    "    );\n",
    "    \"\"\"\n",
    "\n",
    "def insert_req_education(conn, values):\n",
    "    sql = ''' INSERT INTO RequiredEducation(Education) \n",
    "                VALUES(?) '''\n",
    "    cur = conn.cursor()\n",
    "    cur.executemany(sql, values)\n",
    "    return cur.lastrowid\n",
    "\n",
    "   \n",
    "\n",
    "with conn1:\n",
    "    create_table(conn1, create_table_sql2,'Education')\n",
    "    insert_req_education(conn1,value_required_education)\n",
    "#     sql_statement = 'SELECT * from RequiredEducation'\n",
    "#     required_education = execute_sql_statement(sql_statement, conn1)"
   ]
  },
  {
   "cell_type": "code",
   "execution_count": null,
   "id": "1521db9e",
   "metadata": {},
   "outputs": [],
   "source": [
    "required_education"
   ]
  },
  {
   "cell_type": "code",
   "execution_count": null,
   "id": "8b13ac9a",
   "metadata": {},
   "outputs": [],
   "source": [
    "with conn:\n",
    "    sql_statement = 'SELECT distinct industry from raw_data'\n",
    "    value_industry = execute_sql_statement(sql_statement, conn) \n",
    "    \n",
    "create_table_sql2 = \"\"\"\n",
    "    CREATE TABLE IF NOT EXISTS [Industry] (\n",
    "        [IndustryId] integer not null primary key,\n",
    "        [IndustryName] Text\n",
    "    );\n",
    "    \"\"\"\n",
    "\n",
    "def insert_Industry(conn, values):\n",
    "    sql = ''' INSERT INTO Industry(IndustryName) \n",
    "                VALUES(?) '''\n",
    "    cur = conn.cursor()\n",
    "    cur.executemany(sql, values)\n",
    "    return cur.lastrowid\n",
    "\n",
    "   \n",
    "\n",
    "with conn1:\n",
    "    create_table(conn1, create_table_sql2,'Industry')\n",
    "    insert_Industry(conn1,value_required_education)\n",
    "#     sql_statement = 'SELECT * from Industry'\n",
    "#     industry = execute_sql_statement(sql_statement, conn1)"
   ]
  },
  {
   "cell_type": "code",
   "execution_count": null,
   "id": "226f01db",
   "metadata": {},
   "outputs": [],
   "source": [
    "industry"
   ]
  },
  {
   "cell_type": "code",
   "execution_count": null,
   "id": "57db9f8b",
   "metadata": {},
   "outputs": [],
   "source": [
    "with conn:\n",
    "    sql_statement = 'SELECT distinct benefits from raw_data'\n",
    "    value_benefits = execute_sql_statement(sql_statement, conn) \n",
    "    \n",
    "create_table_sql2 = \"\"\"\n",
    "    CREATE TABLE IF NOT EXISTS [Benefits] (\n",
    "        [BenefitsId] integer not null primary key,\n",
    "        [BenefitsDescription] Text\n",
    "    );\n",
    "    \"\"\"\n",
    "\n",
    "def insert_Benefits(conn, values):\n",
    "    sql = ''' INSERT INTO Benefits(BenefitsDescription) \n",
    "                VALUES(?) '''\n",
    "    cur = conn.cursor()\n",
    "    cur.executemany(sql, values)\n",
    "    return cur.lastrowid\n",
    "\n",
    "   \n",
    "\n",
    "with conn1:\n",
    "    create_table(conn1, create_table_sql2,'Benefits')\n",
    "    insert_Benefits(conn1,value_benefits)\n",
    "#     sql_statement = 'SELECT * from Benefits'\n",
    "#     benefits = execute_sql_statement(sql_statement, conn1)\n",
    "#     sql_statement = 'SELECT * from Benefits where BenefitsDescription=\"\"'\n",
    "#     benefits = execute_sql_statement(sql_statement, conn1)"
   ]
  },
  {
   "cell_type": "code",
   "execution_count": null,
   "id": "6e4add90",
   "metadata": {},
   "outputs": [],
   "source": []
  },
  {
   "cell_type": "code",
   "execution_count": null,
   "id": "7d710592",
   "metadata": {},
   "outputs": [],
   "source": []
  },
  {
   "cell_type": "code",
   "execution_count": null,
   "id": "bcdd0c8b",
   "metadata": {},
   "outputs": [],
   "source": []
  }
 ],
 "metadata": {
  "kernelspec": {
   "display_name": "Python 3 (ipykernel)",
   "language": "python",
   "name": "python3"
  },
  "language_info": {
   "codemirror_mode": {
    "name": "ipython",
    "version": 3
   },
   "file_extension": ".py",
   "mimetype": "text/x-python",
   "name": "python",
   "nbconvert_exporter": "python",
   "pygments_lexer": "ipython3",
   "version": "3.9.7"
  }
 },
 "nbformat": 4,
 "nbformat_minor": 5
}
